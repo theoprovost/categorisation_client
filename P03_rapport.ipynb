{
 "cells": [
  {
   "cell_type": "markdown",
   "id": "43f90782-b7fc-4c20-8882-a0dbffb96bc3",
   "metadata": {},
   "source": [
    "# Projet ségmentation client\n",
    "\n",
    "Useful links : [Subject](https://simplonline.co/briefs/99595e02-a23d-47bc-86e8-738520a13ce5) | [Original datasets (.csv)](https://drive.google.com/drive/folders/15Q-hhe7kmOtQ_c6Cjw9Vx2NXixn7oNud) <br>\n",
    "This project was realized by : Théo"
   ]
  },
  {
   "cell_type": "markdown",
   "id": "e320bce9-1da6-4df8-8e18-0abf6fff5c9b",
   "metadata": {},
   "source": [
    "Technical specifications :\n",
    ">- Python3"
   ]
  },
  {
   "cell_type": "markdown",
   "id": "2d964bb4-e614-41fd-8477-f108eaf1b19f",
   "metadata": {},
   "source": [
    "### Table of content\n",
    "- [Import des données](#data_import)"
   ]
  },
  {
   "cell_type": "markdown",
   "id": "63a0af59-3101-41f9-b8b7-3010e6fac7f1",
   "metadata": {},
   "source": [
    "----"
   ]
  },
  {
   "cell_type": "code",
   "execution_count": 3,
   "id": "8a5d579c-6313-4bff-9d42-c84bf311109a",
   "metadata": {},
   "outputs": [
    {
     "data": {
      "text/plain": [
       "'/Users/theoprovost/Desktop/SIMPLON/SIMPLON_REPOS/SIMPLON-P/P03'"
      ]
     },
     "execution_count": 3,
     "metadata": {},
     "output_type": "execute_result"
    }
   ],
   "source": [
    "import pandas as pd\n",
    "import numpy as np\n",
    "\n",
    "%pwd"
   ]
  },
  {
   "cell_type": "markdown",
   "id": "c0ad442d-02af-4748-90c7-e001358e7576",
   "metadata": {},
   "source": [
    "### <a name=\"data_import\"></a> Import des données"
   ]
  },
  {
   "cell_type": "code",
   "execution_count": null,
   "id": "c16c83a6-63cf-4a4d-90c5-bd0b91c52265",
   "metadata": {},
   "outputs": [],
   "source": [
    "customers = pd.read_csv('./data/')"
   ]
  }
 ],
 "metadata": {
  "kernelspec": {
   "display_name": "Python 3",
   "language": "python",
   "name": "python3"
  },
  "language_info": {
   "codemirror_mode": {
    "name": "ipython",
    "version": 3
   },
   "file_extension": ".py",
   "mimetype": "text/x-python",
   "name": "python",
   "nbconvert_exporter": "python",
   "pygments_lexer": "ipython3",
   "version": "3.8.8"
  },
  "widgets": {
   "application/vnd.jupyter.widget-state+json": {
    "state": {},
    "version_major": 2,
    "version_minor": 0
   }
  }
 },
 "nbformat": 4,
 "nbformat_minor": 5
}
